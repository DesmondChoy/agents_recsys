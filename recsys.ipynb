{
 "cells": [
  {
   "cell_type": "markdown",
   "metadata": {},
   "source": [
    "# Import"
   ]
  },
  {
   "cell_type": "markdown",
   "metadata": {},
   "source": [
    "## Libraries"
   ]
  },
  {
   "cell_type": "code",
   "execution_count": 1,
   "metadata": {},
   "outputs": [],
   "source": [
    "# Warning control\n",
    "import warnings\n",
    "import os\n",
    "import yaml\n",
    "from pathlib import Path\n",
    "\n",
    "\n",
    "from dotenv import load_dotenv\n",
    "from crewai import Agent, Task, Crew\n",
    "from crewai_tools import FileReadTool\n",
    "\n",
    "from pydantic import BaseModel, Field\n",
    "from typing import List, Optional\n",
    "# from IPython.display import display, Markdown\n",
    "\n",
    "\n",
    "load_dotenv()  # take environment variables from .env\n",
    "warnings.filterwarnings(\"ignore\")\n",
    "\n",
    "os.environ[\"OPENAI_MODEL_NAME\"] = \"gpt-4o-mini\""
   ]
  },
  {
   "cell_type": "markdown",
   "metadata": {},
   "source": [
    "## Conversation Transcript"
   ]
  },
  {
   "cell_type": "code",
   "execution_count": 9,
   "metadata": {},
   "outputs": [
    {
     "name": "stdout",
     "output_type": "stream",
     "text": [
      "CSR: Good morning! Thank you for calling ShiokAh Insurance. My name is Sarah. How may I assist you today?\n",
      "\n",
      "Customer: Hi Sarah! I want to check about travel insurance leh. Planning to go Japan next month.\n",
      "\n",
      "CSR: I'll be happy to help you with that. Before we look into the options, could you share some information with me? May I know your age?\n",
      "\n",
      "Customer: I'm 62 this year.\n",
      "\n",
      "CSR: Thank you for sharing. Since you're above 60, we'll need to note this for coverage considerations. Do you have any pre-exi\n"
     ]
    }
   ],
   "source": [
    "transcript_content = Path(\"data/conversation_01.txt\").read_text()\n",
    "print(transcript_content[:500])"
   ]
  },
  {
   "cell_type": "markdown",
   "metadata": {},
   "source": [
    "## Tasks & Agents YAML files"
   ]
  },
  {
   "cell_type": "code",
   "execution_count": 12,
   "metadata": {},
   "outputs": [],
   "source": [
    "# Define file paths for YAML configurations\n",
    "files = {\n",
    "    \"agents\": \"src/recsys/config/agents.yaml\",\n",
    "    \"tasks\": \"src/recsys/config/tasks.yaml\",\n",
    "}\n",
    "\n",
    "# Load configurations from YAML files\n",
    "configs = {}\n",
    "for config_type, file_path in files.items():\n",
    "    with open(file_path, \"r\") as file:\n",
    "        configs[config_type] = yaml.safe_load(file)\n",
    "\n",
    "# Assign loaded configurations to specific variables\n",
    "agents_config = configs[\"agents\"]\n",
    "tasks_config = configs[\"tasks\"]"
   ]
  },
  {
   "cell_type": "code",
   "execution_count": 33,
   "metadata": {},
   "outputs": [
    {
     "name": "stdout",
     "output_type": "stream",
     "text": [
      "agents_config contains: conversation_transcript_agent, underwriting_report_agent \n",
      "tasks_config contains: process_transcript_task, generate_underwriting_report_task\n"
     ]
    }
   ],
   "source": [
    "print(\n",
    "    \"agents_config contains:\",\n",
    "    \", \".join(agents_config.keys()),\n",
    "    \"\\ntasks_config contains:\",\n",
    "    \", \".join(tasks_config.keys()),\n",
    ")"
   ]
  },
  {
   "cell_type": "markdown",
   "metadata": {},
   "source": [
    "## Tools (Agent Usage)"
   ]
  },
  {
   "cell_type": "code",
   "execution_count": null,
   "metadata": {},
   "outputs": [],
   "source": [
    "read_income = FileReadTool(file_path=\"data/income_travel_insurance_2024.txt\")\n",
    "read_ge = FileReadTool(file_path=\"data/ge_travel_insurance_2024.txt\")"
   ]
  },
  {
   "cell_type": "code",
   "execution_count": null,
   "metadata": {},
   "outputs": [],
   "source": [
    "class CustomerInfo(BaseModel):\n",
    "    age: int\n",
    "    medical_conditions: Optional[List[str]] = Field(default_factory=list)\n",
    "    destination: str\n",
    "    coverage_factors: List[str] = Field(default_factory=list)\n",
    "    policy_customization_factors: List[str] = Field(default_factory=list)\n",
    "\n",
    "\n",
    "class CustomerInfoList(BaseModel):\n",
    "    customers: List[CustomerInfo] = Field(default_factory=list)"
   ]
  }
 ],
 "metadata": {
  "kernelspec": {
   "display_name": ".venv",
   "language": "python",
   "name": "python3"
  },
  "language_info": {
   "codemirror_mode": {
    "name": "ipython",
    "version": 3
   },
   "file_extension": ".py",
   "mimetype": "text/x-python",
   "name": "python",
   "nbconvert_exporter": "python",
   "pygments_lexer": "ipython3",
   "version": "3.11.6"
  }
 },
 "nbformat": 4,
 "nbformat_minor": 2
}
