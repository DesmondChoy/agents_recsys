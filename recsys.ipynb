{
 "cells": [
  {
   "cell_type": "markdown",
   "metadata": {},
   "source": [
    "# Import"
   ]
  },
  {
   "cell_type": "markdown",
   "metadata": {},
   "source": [
    "## Libraries"
   ]
  },
  {
   "cell_type": "code",
   "execution_count": null,
   "metadata": {},
   "outputs": [],
   "source": [
    "# Warning control\n",
    "import warnings\n",
    "import os\n",
    "import yaml\n",
    "from pathlib import Path\n",
    "from dotenv import load_dotenv\n",
    "from pydantic import BaseModel, Field, PositiveInt\n",
    "from typing import List, Optional\n",
    "from IPython.display import display, Markdown\n",
    "\n",
    "from crewai import Agent, Task, Crew\n",
    "from crewai_tools import FileReadTool, DirectoryReadTool\n",
    "\n",
    "load_dotenv()  # take environment variables from .env\n",
    "warnings.filterwarnings(\"ignore\")\n",
    "\n",
    "# os.environ[\"OPENAI_MODEL_NAME\"] = \"gpt-4o\""
   ]
  },
  {
   "cell_type": "markdown",
   "metadata": {},
   "source": [
    "## Conversation Transcript"
   ]
  },
  {
   "cell_type": "markdown",
   "metadata": {},
   "source": [
    "Output from `pdf_to_md.ipynb`:"
   ]
  },
  {
   "cell_type": "code",
   "execution_count": null,
   "metadata": {},
   "outputs": [],
   "source": [
    "transcript_content = Path(\"data/conversation_01.txt\").read_text()\n",
    "print(transcript_content[:500])"
   ]
  },
  {
   "cell_type": "markdown",
   "metadata": {},
   "source": [
    "## Tasks & Agents YAML files"
   ]
  },
  {
   "cell_type": "code",
   "execution_count": null,
   "metadata": {},
   "outputs": [],
   "source": [
    "# Define file paths for YAML configurations\n",
    "files = {\n",
    "    \"agents\": \"src/recsys/config/agents.yaml\",\n",
    "    \"tasks\": \"src/recsys/config/tasks.yaml\",\n",
    "}\n",
    "\n",
    "# Load configurations from YAML files\n",
    "configs = {}\n",
    "for config_type, file_path in files.items():\n",
    "    with open(file_path, \"r\") as file:\n",
    "        configs[config_type] = yaml.safe_load(file)\n",
    "\n",
    "# Assign loaded configurations to specific variables\n",
    "agents_config = configs[\"agents\"]\n",
    "tasks_config = configs[\"tasks\"]"
   ]
  },
  {
   "cell_type": "code",
   "execution_count": null,
   "metadata": {},
   "outputs": [],
   "source": [
    "print(\n",
    "    \"agents_config contains:\",\n",
    "    \", \".join(agents_config.keys()),\n",
    "    \"\\ntasks_config contains:\",\n",
    "    \", \".join(tasks_config.keys()),\n",
    ")"
   ]
  },
  {
   "cell_type": "markdown",
   "metadata": {},
   "source": [
    "## Tools (Agent Usage)"
   ]
  },
  {
   "cell_type": "markdown",
   "metadata": {},
   "source": [
    "Got `FileReadTool()` to work, thanks to this [article](https://lablab.ai/t/crewai-multi-agent-system)!"
   ]
  },
  {
   "cell_type": "code",
   "execution_count": null,
   "metadata": {},
   "outputs": [],
   "source": [
    "directory_read_tool = DirectoryReadTool(directory=\"./data\")\n",
    "file_read_tool = FileReadTool()\n",
    "\n",
    "\n",
    "# read_conversation = FileReadTool(file_path=\"./data/conversation_01.txt\")\n",
    "# read_income = FileReadTool(file_path=\"./data/income_travel_insurance_2024.txt\")\n",
    "# read_ge = FileReadTool(file_path=\"data/ge_travel_insurance_2024.txt\")"
   ]
  },
  {
   "cell_type": "markdown",
   "metadata": {},
   "source": [
    "Certain policies (even in Markdown) will give this error:  `Error: 'charmap' codec can't decode byte 0x81 in position 1886: character maps to <undefined>`  \n",
    "This occurs because the AI agent attempting to read the file is using a character encoding incompatible with the text file's encoding. Specifically:\n",
    "\n",
    "0x81 is a byte value that may not be defined in the default character map (often cp1252 or similar) the AI agent is using.\n",
    "The error suggests the text file might be encoded in a different character set (e.g., UTF-8, ISO-8859-1, or Shift-JIS), which contains characters outside the expected range for the chosen codec."
   ]
  },
  {
   "cell_type": "markdown",
   "metadata": {},
   "source": [
    "**My solution: Fix the source code to use utf-8.**  \n",
    "To specify the encoding when reading the file in the FileReadTool class, the _run method was modified to include the encoding argument in the open() function call.   \n",
    "See this [link](https://chatgpt.com/share/673eeca7-0654-8010-aa31-31a1c5996d27) for details."
   ]
  },
  {
   "cell_type": "markdown",
   "metadata": {},
   "source": [
    "# Pydantic Classes"
   ]
  },
  {
   "cell_type": "code",
   "execution_count": null,
   "metadata": {},
   "outputs": [],
   "source": [
    "class CustomerInfo(BaseModel):\n",
    "    age: PositiveInt = Field(..., description=\"Age of the customer\")\n",
    "    medical_conditions: Optional[List[str]] = Field(\n",
    "        default_factory=list, description=\"List of pre-existing medical conditions\"\n",
    "    )\n",
    "    destination: str = Field(..., description=\"Travel destination\")\n",
    "    coverage_factors: List[str] = Field(\n",
    "        default_factory=list, description=\"Factors affecting coverage\"\n",
    "    )\n",
    "    policy_customization_factors: List[str] = Field(\n",
    "        default_factory=list, description=\"Factors for policy customization\"\n",
    "    )\n",
    "    coverage_priority: List[str] = Field(\n",
    "        default_factory=list,\n",
    "        description=\"Customer's priorities for coverage, e.g., destination coverage, PA benefits\",\n",
    "    )\n",
    "\n",
    "\n",
    "class CustomerInfoList(BaseModel):\n",
    "    customers: List[CustomerInfo] = Field(default_factory=list)"
   ]
  },
  {
   "cell_type": "markdown",
   "metadata": {},
   "source": [
    "# Create Crew, Agents and Tasks"
   ]
  },
  {
   "cell_type": "markdown",
   "metadata": {},
   "source": [
    "[Agent attributes](https://docs.crewai.com/concepts/agents) for reference.  \n",
    "Tools can be assigned when specifying Agent:"
   ]
  },
  {
   "cell_type": "code",
   "execution_count": null,
   "metadata": {},
   "outputs": [],
   "source": [
    "conversation_transcript_agent = Agent(\n",
    "    config=agents_config[\"conversation_transcript_agent\"],\n",
    "    tools=[directory_read_tool, file_read_tool],\n",
    "    verbose=True,\n",
    ")\n",
    "\n",
    "underwriting_report_agent = Agent(\n",
    "    config=agents_config[\"underwriting_report_agent\"],\n",
    "    tools=[directory_read_tool, file_read_tool],\n",
    "    verbose=True,\n",
    ")"
   ]
  },
  {
   "cell_type": "markdown",
   "metadata": {},
   "source": [
    "[Task attributes](https://docs.crewai.com/concepts/tasks) for reference."
   ]
  },
  {
   "cell_type": "code",
   "execution_count": null,
   "metadata": {},
   "outputs": [],
   "source": [
    "process_transcript_task = Task(\n",
    "    config=tasks_config[\"process_transcript_task\"],\n",
    "    agent=conversation_transcript_agent,\n",
    "    output_pydantic=CustomerInfoList,\n",
    ")\n",
    "\n",
    "generate_underwriting_report_task = Task(\n",
    "    config=tasks_config[\"generate_underwriting_report_task\"],\n",
    "    context=[process_transcript_task],\n",
    "    agent=underwriting_report_agent,\n",
    "    async_execution=True,\n",
    ")"
   ]
  },
  {
   "cell_type": "markdown",
   "metadata": {},
   "source": [
    "[Crew attributes](https://docs.crewai.com/concepts/crews) for reference.  \n",
    "\n",
    "The `process` parameter controls how tasks are executed by the crew. The options include:\n",
    "\n",
    "* Sequential (Default): Tasks are performed one after the other in a specific order.\n",
    "* Hierarchical: One agent acts as a manager, delegating tasks to other agents while maintaining an overarching memory of the tasks.\n",
    "* Parallel: Tasks are executed concurrently, allowing multiple tasks to run at the same time.\n"
   ]
  },
  {
   "cell_type": "code",
   "execution_count": null,
   "metadata": {},
   "outputs": [],
   "source": [
    "recsys_crew = Crew(\n",
    "    agents=[conversation_transcript_agent, underwriting_report_agent],\n",
    "    tasks=[\n",
    "        process_transcript_task,\n",
    "        generate_underwriting_report_task,\n",
    "    ],\n",
    "    verbose=True,\n",
    "    process=\"sequential\",\n",
    ")"
   ]
  },
  {
   "cell_type": "code",
   "execution_count": null,
   "metadata": {},
   "outputs": [],
   "source": [
    "result = recsys_crew.kickoff()\n",
    "display(Markdown(result.raw))"
   ]
  },
  {
   "cell_type": "markdown",
   "metadata": {},
   "source": [
    "# Notes"
   ]
  },
  {
   "cell_type": "markdown",
   "metadata": {},
   "source": [
    "(21 Nov 2024)  \n",
    "- ~~More explicit referencing of insurance policy. Defined in agent or task?~~\n",
    "- ~~Tasked to read Income but can't open. Reads GE instead~~\n",
    "- Latest GPT-4o (gpt-4o-2024-11-20) unable to use tools.\n",
    "- Table comparison format acceptable?"
   ]
  },
  {
   "cell_type": "code",
   "execution_count": null,
   "metadata": {},
   "outputs": [],
   "source": [
    "print(recsys_crew.usage_metrics)"
   ]
  }
 ],
 "metadata": {
  "kernelspec": {
   "display_name": ".venv",
   "language": "python",
   "name": "python3"
  },
  "language_info": {
   "codemirror_mode": {
    "name": "ipython",
    "version": 3
   },
   "file_extension": ".py",
   "mimetype": "text/x-python",
   "name": "python",
   "nbconvert_exporter": "python",
   "pygments_lexer": "ipython3",
   "version": "3.11.6"
  }
 },
 "nbformat": 4,
 "nbformat_minor": 2
}
